{
 "cells": [
  {
   "cell_type": "code",
   "execution_count": null,
   "metadata": {},
   "outputs": [],
   "source": [
    "phone_book = {}"
   ]
  },
  {
   "cell_type": "code",
   "execution_count": null,
   "metadata": {},
   "outputs": [],
   "source": [
    "phone_book['Robert'] = 8100000\n",
    "phone_book['Alice'] = 8100001\n",
    "phone_book['John'] = 8100002\n",
    "phone_book['Natalie'] = 8100003"
   ]
  },
  {
   "cell_type": "code",
   "execution_count": null,
   "metadata": {},
   "outputs": [],
   "source": [
    "# phone_book={'Robert' : 8100000 , 'Alice': '8100001' , 'John': '8100002', 'Natalie':'8100003'}"
   ]
  },
  {
   "cell_type": "code",
   "execution_count": null,
   "metadata": {},
   "outputs": [],
   "source": [
    "phone_book"
   ]
  },
  {
   "cell_type": "code",
   "execution_count": null,
   "metadata": {},
   "outputs": [],
   "source": [
    "phone_book['Natalie'] "
   ]
  },
  {
   "cell_type": "code",
   "execution_count": 6,
   "metadata": {},
   "outputs": [
    {
     "name": "stdout",
     "output_type": "stream",
     "text": [
      "Robert's phone number is 8100000\n",
      "Alice's phone number is 8100001\n",
      "John's phone number is 8100002\n",
      "Natalie's phone number is 8100003\n"
     ]
    }
   ],
   "source": [
    "for k in phone_book.keys():\n",
    "    print(f'{k}\\'s phone number is {phone_book[k]}')"
   ]
  },
  {
   "cell_type": "code",
   "execution_count": 7,
   "metadata": {},
   "outputs": [
    {
     "name": "stdout",
     "output_type": "stream",
     "text": [
      "dict_values([8100000, 8100001, 8100002, 8100003])\n"
     ]
    }
   ],
   "source": [
    "print(phone_book.values())"
   ]
  },
  {
   "cell_type": "code",
   "execution_count": 8,
   "metadata": {},
   "outputs": [
    {
     "name": "stdout",
     "output_type": "stream",
     "text": [
      "dict_keys(['Robert', 'Alice', 'John', 'Natalie'])\n"
     ]
    }
   ],
   "source": [
    "print(phone_book.keys())"
   ]
  },
  {
   "cell_type": "code",
   "execution_count": 9,
   "metadata": {},
   "outputs": [
    {
     "data": {
      "text/plain": [
       "{'Robert': 8100000, 'Alice': 8100001, 'John': 8100002, 'Natalie': 8100003}"
      ]
     },
     "execution_count": 9,
     "metadata": {},
     "output_type": "execute_result"
    }
   ],
   "source": [
    "keys = ['Robert', 'Alice', 'John','Natalie']\n",
    "values = [8100000, 8100001, 8100002,8100003]\n",
    "phone_book2 = {k:v for k, v in zip(keys, values)}\n",
    "phone_book2\n"
   ]
  },
  {
   "cell_type": "code",
   "execution_count": 10,
   "metadata": {},
   "outputs": [
    {
     "data": {
      "text/plain": [
       "100"
      ]
     },
     "execution_count": 10,
     "metadata": {},
     "output_type": "execute_result"
    }
   ],
   "source": [
    "# Python is using different hash() function depending on the type of data.\n",
    "hash(100)"
   ]
  },
  {
   "cell_type": "code",
   "execution_count": 11,
   "metadata": {},
   "outputs": [
    {
     "data": {
      "text/plain": [
       "1924490641670026680"
      ]
     },
     "execution_count": 11,
     "metadata": {},
     "output_type": "execute_result"
    }
   ],
   "source": [
    "hash('Robert')"
   ]
  },
  {
   "cell_type": "code",
   "execution_count": 12,
   "metadata": {},
   "outputs": [
    {
     "name": "stdout",
     "output_type": "stream",
     "text": [
      "{'John': 8100002}\n"
     ]
    }
   ],
   "source": [
    "del phone_book2['Robert']  #removes key-value pair of 'Robert'\n",
    "phone_book2.pop('Alice')   #removes the value of 'Alice'\n",
    "phone_book2.popitem()    #removes the last inserted item\n",
    "print(phone_book2)"
   ]
  },
  {
   "cell_type": "markdown",
   "metadata": {},
   "source": [
    "### Creating a hashtable from scratch"
   ]
  },
  {
   "cell_type": "code",
   "execution_count": 13,
   "metadata": {},
   "outputs": [],
   "source": [
    "# Creating Hashtable as a list of list.\n",
    "HashTable = [[] for _ in range(10)]\n",
    "\n",
    "# simple hash function\n",
    "def Hashing(keyvalue):\n",
    "    return keyvalue % len(HashTable)\n",
    "\n",
    "\n",
    "def add(Hashtable, key, value):\n",
    "    hash_key = Hashing(key)\n",
    "    Hashtable[hash_key].append(value)\n",
    "    \n",
    "def display_hashtable(hashTable):\n",
    "    for i in range(len(hashTable)):\n",
    "        print(i, end = \" \")\n",
    "        for j in hashTable[i]:\n",
    "            print(\"-->\", end = \" \")\n",
    "            print(j, end = \" \")\n",
    "\n",
    "        print()\n",
    "\n"
   ]
  },
  {
   "cell_type": "code",
   "execution_count": 14,
   "metadata": {},
   "outputs": [
    {
     "name": "stdout",
     "output_type": "stream",
     "text": [
      "0 --> Apple --> mango \n",
      "1 --> blueberry --> watermelon \n",
      "2 \n",
      "3 \n",
      "4 \n",
      "5 --> Banana \n",
      "6 \n",
      "7 \n",
      "8 \n",
      "9 --> pineapple \n"
     ]
    }
   ],
   "source": [
    "# Driver Code\n",
    "add(HashTable, 10, 'Apple')\n",
    "add(HashTable, 25, 'Banana')\n",
    "add(HashTable, 20, 'mango')\n",
    "add(HashTable, 9, 'pineapple')\n",
    "add(HashTable, 21, 'blueberry')\n",
    "add(HashTable, 21, 'watermelon')\n",
    "\n",
    "\n",
    "display_hashtable(HashTable)\n"
   ]
  },
  {
   "cell_type": "code",
   "execution_count": null,
   "metadata": {},
   "outputs": [],
   "source": []
  }
 ],
 "metadata": {
  "kernelspec": {
   "display_name": "Python 3",
   "language": "python",
   "name": "python3"
  },
  "language_info": {
   "codemirror_mode": {
    "name": "ipython",
    "version": 3
   },
   "file_extension": ".py",
   "mimetype": "text/x-python",
   "name": "python",
   "nbconvert_exporter": "python",
   "pygments_lexer": "ipython3",
   "version": "3.7.1"
  }
 },
 "nbformat": 4,
 "nbformat_minor": 2
}
